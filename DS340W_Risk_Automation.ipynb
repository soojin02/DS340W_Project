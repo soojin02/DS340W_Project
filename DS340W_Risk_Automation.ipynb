{
  "nbformat": 4,
  "nbformat_minor": 0,
  "metadata": {
    "colab": {
      "provenance": []
    },
    "kernelspec": {
      "name": "python3",
      "display_name": "Python 3"
    },
    "language_info": {
      "name": "python"
    }
  },
  "cells": [
    {
      "cell_type": "code",
      "source": [
        "from google.colab import drive\n",
        "drive.mount('/content/drive')\n",
        "import os\n",
        "os.chdir('/content/drive/My Drive/DS340W')"
      ],
      "metadata": {
        "id": "0RSnqo_H4Htj",
        "colab": {
          "base_uri": "https://localhost:8080/"
        },
        "outputId": "141c36af-e1f5-4c27-dfe9-64a12a87114e"
      },
      "execution_count": 3,
      "outputs": [
        {
          "output_type": "stream",
          "name": "stdout",
          "text": [
            "Drive already mounted at /content/drive; to attempt to forcibly remount, call drive.mount(\"/content/drive\", force_remount=True).\n"
          ]
        }
      ]
    },
    {
      "cell_type": "code",
      "source": [
        "import pandas as pd\n",
        "df = pd.read_csv('ai_job_market_insights.csv')\n",
        "df.head()"
      ],
      "metadata": {
        "id": "AlJBKLn84Jy4",
        "colab": {
          "base_uri": "https://localhost:8080/",
          "height": 206
        },
        "outputId": "ba4ed8a1-8d5b-49e4-96b2-144abdc9f9ee"
      },
      "execution_count": 4,
      "outputs": [
        {
          "output_type": "execute_result",
          "data": {
            "text/plain": [
              "               Job_Title       Industry Company_Size   Location  \\\n",
              "0  Cybersecurity Analyst  Entertainment        Small      Dubai   \n",
              "1   Marketing Specialist     Technology        Large  Singapore   \n",
              "2          AI Researcher     Technology        Large  Singapore   \n",
              "3          Sales Manager         Retail        Small     Berlin   \n",
              "4  Cybersecurity Analyst  Entertainment        Small      Tokyo   \n",
              "\n",
              "  AI_Adoption_Level Automation_Risk     Required_Skills     Salary_USD  \\\n",
              "0            Medium            High        UX/UI Design  111392.165243   \n",
              "1            Medium            High           Marketing   93792.562466   \n",
              "2            Medium            High        UX/UI Design  107170.263069   \n",
              "3               Low            High  Project Management   93027.953758   \n",
              "4               Low             Low          JavaScript   87752.922171   \n",
              "\n",
              "  Remote_Friendly Job_Growth_Projection  \n",
              "0             Yes                Growth  \n",
              "1              No               Decline  \n",
              "2             Yes                Growth  \n",
              "3              No                Growth  \n",
              "4             Yes               Decline  "
            ],
            "text/html": [
              "\n",
              "  <div id=\"df-d73e2471-a452-4a34-879d-ae9d15274996\" class=\"colab-df-container\">\n",
              "    <div>\n",
              "<style scoped>\n",
              "    .dataframe tbody tr th:only-of-type {\n",
              "        vertical-align: middle;\n",
              "    }\n",
              "\n",
              "    .dataframe tbody tr th {\n",
              "        vertical-align: top;\n",
              "    }\n",
              "\n",
              "    .dataframe thead th {\n",
              "        text-align: right;\n",
              "    }\n",
              "</style>\n",
              "<table border=\"1\" class=\"dataframe\">\n",
              "  <thead>\n",
              "    <tr style=\"text-align: right;\">\n",
              "      <th></th>\n",
              "      <th>Job_Title</th>\n",
              "      <th>Industry</th>\n",
              "      <th>Company_Size</th>\n",
              "      <th>Location</th>\n",
              "      <th>AI_Adoption_Level</th>\n",
              "      <th>Automation_Risk</th>\n",
              "      <th>Required_Skills</th>\n",
              "      <th>Salary_USD</th>\n",
              "      <th>Remote_Friendly</th>\n",
              "      <th>Job_Growth_Projection</th>\n",
              "    </tr>\n",
              "  </thead>\n",
              "  <tbody>\n",
              "    <tr>\n",
              "      <th>0</th>\n",
              "      <td>Cybersecurity Analyst</td>\n",
              "      <td>Entertainment</td>\n",
              "      <td>Small</td>\n",
              "      <td>Dubai</td>\n",
              "      <td>Medium</td>\n",
              "      <td>High</td>\n",
              "      <td>UX/UI Design</td>\n",
              "      <td>111392.165243</td>\n",
              "      <td>Yes</td>\n",
              "      <td>Growth</td>\n",
              "    </tr>\n",
              "    <tr>\n",
              "      <th>1</th>\n",
              "      <td>Marketing Specialist</td>\n",
              "      <td>Technology</td>\n",
              "      <td>Large</td>\n",
              "      <td>Singapore</td>\n",
              "      <td>Medium</td>\n",
              "      <td>High</td>\n",
              "      <td>Marketing</td>\n",
              "      <td>93792.562466</td>\n",
              "      <td>No</td>\n",
              "      <td>Decline</td>\n",
              "    </tr>\n",
              "    <tr>\n",
              "      <th>2</th>\n",
              "      <td>AI Researcher</td>\n",
              "      <td>Technology</td>\n",
              "      <td>Large</td>\n",
              "      <td>Singapore</td>\n",
              "      <td>Medium</td>\n",
              "      <td>High</td>\n",
              "      <td>UX/UI Design</td>\n",
              "      <td>107170.263069</td>\n",
              "      <td>Yes</td>\n",
              "      <td>Growth</td>\n",
              "    </tr>\n",
              "    <tr>\n",
              "      <th>3</th>\n",
              "      <td>Sales Manager</td>\n",
              "      <td>Retail</td>\n",
              "      <td>Small</td>\n",
              "      <td>Berlin</td>\n",
              "      <td>Low</td>\n",
              "      <td>High</td>\n",
              "      <td>Project Management</td>\n",
              "      <td>93027.953758</td>\n",
              "      <td>No</td>\n",
              "      <td>Growth</td>\n",
              "    </tr>\n",
              "    <tr>\n",
              "      <th>4</th>\n",
              "      <td>Cybersecurity Analyst</td>\n",
              "      <td>Entertainment</td>\n",
              "      <td>Small</td>\n",
              "      <td>Tokyo</td>\n",
              "      <td>Low</td>\n",
              "      <td>Low</td>\n",
              "      <td>JavaScript</td>\n",
              "      <td>87752.922171</td>\n",
              "      <td>Yes</td>\n",
              "      <td>Decline</td>\n",
              "    </tr>\n",
              "  </tbody>\n",
              "</table>\n",
              "</div>\n",
              "    <div class=\"colab-df-buttons\">\n",
              "\n",
              "  <div class=\"colab-df-container\">\n",
              "    <button class=\"colab-df-convert\" onclick=\"convertToInteractive('df-d73e2471-a452-4a34-879d-ae9d15274996')\"\n",
              "            title=\"Convert this dataframe to an interactive table.\"\n",
              "            style=\"display:none;\">\n",
              "\n",
              "  <svg xmlns=\"http://www.w3.org/2000/svg\" height=\"24px\" viewBox=\"0 -960 960 960\">\n",
              "    <path d=\"M120-120v-720h720v720H120Zm60-500h600v-160H180v160Zm220 220h160v-160H400v160Zm0 220h160v-160H400v160ZM180-400h160v-160H180v160Zm440 0h160v-160H620v160ZM180-180h160v-160H180v160Zm440 0h160v-160H620v160Z\"/>\n",
              "  </svg>\n",
              "    </button>\n",
              "\n",
              "  <style>\n",
              "    .colab-df-container {\n",
              "      display:flex;\n",
              "      gap: 12px;\n",
              "    }\n",
              "\n",
              "    .colab-df-convert {\n",
              "      background-color: #E8F0FE;\n",
              "      border: none;\n",
              "      border-radius: 50%;\n",
              "      cursor: pointer;\n",
              "      display: none;\n",
              "      fill: #1967D2;\n",
              "      height: 32px;\n",
              "      padding: 0 0 0 0;\n",
              "      width: 32px;\n",
              "    }\n",
              "\n",
              "    .colab-df-convert:hover {\n",
              "      background-color: #E2EBFA;\n",
              "      box-shadow: 0px 1px 2px rgba(60, 64, 67, 0.3), 0px 1px 3px 1px rgba(60, 64, 67, 0.15);\n",
              "      fill: #174EA6;\n",
              "    }\n",
              "\n",
              "    .colab-df-buttons div {\n",
              "      margin-bottom: 4px;\n",
              "    }\n",
              "\n",
              "    [theme=dark] .colab-df-convert {\n",
              "      background-color: #3B4455;\n",
              "      fill: #D2E3FC;\n",
              "    }\n",
              "\n",
              "    [theme=dark] .colab-df-convert:hover {\n",
              "      background-color: #434B5C;\n",
              "      box-shadow: 0px 1px 3px 1px rgba(0, 0, 0, 0.15);\n",
              "      filter: drop-shadow(0px 1px 2px rgba(0, 0, 0, 0.3));\n",
              "      fill: #FFFFFF;\n",
              "    }\n",
              "  </style>\n",
              "\n",
              "    <script>\n",
              "      const buttonEl =\n",
              "        document.querySelector('#df-d73e2471-a452-4a34-879d-ae9d15274996 button.colab-df-convert');\n",
              "      buttonEl.style.display =\n",
              "        google.colab.kernel.accessAllowed ? 'block' : 'none';\n",
              "\n",
              "      async function convertToInteractive(key) {\n",
              "        const element = document.querySelector('#df-d73e2471-a452-4a34-879d-ae9d15274996');\n",
              "        const dataTable =\n",
              "          await google.colab.kernel.invokeFunction('convertToInteractive',\n",
              "                                                    [key], {});\n",
              "        if (!dataTable) return;\n",
              "\n",
              "        const docLinkHtml = 'Like what you see? Visit the ' +\n",
              "          '<a target=\"_blank\" href=https://colab.research.google.com/notebooks/data_table.ipynb>data table notebook</a>'\n",
              "          + ' to learn more about interactive tables.';\n",
              "        element.innerHTML = '';\n",
              "        dataTable['output_type'] = 'display_data';\n",
              "        await google.colab.output.renderOutput(dataTable, element);\n",
              "        const docLink = document.createElement('div');\n",
              "        docLink.innerHTML = docLinkHtml;\n",
              "        element.appendChild(docLink);\n",
              "      }\n",
              "    </script>\n",
              "  </div>\n",
              "\n",
              "\n",
              "<div id=\"df-4d788a6e-d710-4454-af40-3f1df97d3184\">\n",
              "  <button class=\"colab-df-quickchart\" onclick=\"quickchart('df-4d788a6e-d710-4454-af40-3f1df97d3184')\"\n",
              "            title=\"Suggest charts\"\n",
              "            style=\"display:none;\">\n",
              "\n",
              "<svg xmlns=\"http://www.w3.org/2000/svg\" height=\"24px\"viewBox=\"0 0 24 24\"\n",
              "     width=\"24px\">\n",
              "    <g>\n",
              "        <path d=\"M19 3H5c-1.1 0-2 .9-2 2v14c0 1.1.9 2 2 2h14c1.1 0 2-.9 2-2V5c0-1.1-.9-2-2-2zM9 17H7v-7h2v7zm4 0h-2V7h2v10zm4 0h-2v-4h2v4z\"/>\n",
              "    </g>\n",
              "</svg>\n",
              "  </button>\n",
              "\n",
              "<style>\n",
              "  .colab-df-quickchart {\n",
              "      --bg-color: #E8F0FE;\n",
              "      --fill-color: #1967D2;\n",
              "      --hover-bg-color: #E2EBFA;\n",
              "      --hover-fill-color: #174EA6;\n",
              "      --disabled-fill-color: #AAA;\n",
              "      --disabled-bg-color: #DDD;\n",
              "  }\n",
              "\n",
              "  [theme=dark] .colab-df-quickchart {\n",
              "      --bg-color: #3B4455;\n",
              "      --fill-color: #D2E3FC;\n",
              "      --hover-bg-color: #434B5C;\n",
              "      --hover-fill-color: #FFFFFF;\n",
              "      --disabled-bg-color: #3B4455;\n",
              "      --disabled-fill-color: #666;\n",
              "  }\n",
              "\n",
              "  .colab-df-quickchart {\n",
              "    background-color: var(--bg-color);\n",
              "    border: none;\n",
              "    border-radius: 50%;\n",
              "    cursor: pointer;\n",
              "    display: none;\n",
              "    fill: var(--fill-color);\n",
              "    height: 32px;\n",
              "    padding: 0;\n",
              "    width: 32px;\n",
              "  }\n",
              "\n",
              "  .colab-df-quickchart:hover {\n",
              "    background-color: var(--hover-bg-color);\n",
              "    box-shadow: 0 1px 2px rgba(60, 64, 67, 0.3), 0 1px 3px 1px rgba(60, 64, 67, 0.15);\n",
              "    fill: var(--button-hover-fill-color);\n",
              "  }\n",
              "\n",
              "  .colab-df-quickchart-complete:disabled,\n",
              "  .colab-df-quickchart-complete:disabled:hover {\n",
              "    background-color: var(--disabled-bg-color);\n",
              "    fill: var(--disabled-fill-color);\n",
              "    box-shadow: none;\n",
              "  }\n",
              "\n",
              "  .colab-df-spinner {\n",
              "    border: 2px solid var(--fill-color);\n",
              "    border-color: transparent;\n",
              "    border-bottom-color: var(--fill-color);\n",
              "    animation:\n",
              "      spin 1s steps(1) infinite;\n",
              "  }\n",
              "\n",
              "  @keyframes spin {\n",
              "    0% {\n",
              "      border-color: transparent;\n",
              "      border-bottom-color: var(--fill-color);\n",
              "      border-left-color: var(--fill-color);\n",
              "    }\n",
              "    20% {\n",
              "      border-color: transparent;\n",
              "      border-left-color: var(--fill-color);\n",
              "      border-top-color: var(--fill-color);\n",
              "    }\n",
              "    30% {\n",
              "      border-color: transparent;\n",
              "      border-left-color: var(--fill-color);\n",
              "      border-top-color: var(--fill-color);\n",
              "      border-right-color: var(--fill-color);\n",
              "    }\n",
              "    40% {\n",
              "      border-color: transparent;\n",
              "      border-right-color: var(--fill-color);\n",
              "      border-top-color: var(--fill-color);\n",
              "    }\n",
              "    60% {\n",
              "      border-color: transparent;\n",
              "      border-right-color: var(--fill-color);\n",
              "    }\n",
              "    80% {\n",
              "      border-color: transparent;\n",
              "      border-right-color: var(--fill-color);\n",
              "      border-bottom-color: var(--fill-color);\n",
              "    }\n",
              "    90% {\n",
              "      border-color: transparent;\n",
              "      border-bottom-color: var(--fill-color);\n",
              "    }\n",
              "  }\n",
              "</style>\n",
              "\n",
              "  <script>\n",
              "    async function quickchart(key) {\n",
              "      const quickchartButtonEl =\n",
              "        document.querySelector('#' + key + ' button');\n",
              "      quickchartButtonEl.disabled = true;  // To prevent multiple clicks.\n",
              "      quickchartButtonEl.classList.add('colab-df-spinner');\n",
              "      try {\n",
              "        const charts = await google.colab.kernel.invokeFunction(\n",
              "            'suggestCharts', [key], {});\n",
              "      } catch (error) {\n",
              "        console.error('Error during call to suggestCharts:', error);\n",
              "      }\n",
              "      quickchartButtonEl.classList.remove('colab-df-spinner');\n",
              "      quickchartButtonEl.classList.add('colab-df-quickchart-complete');\n",
              "    }\n",
              "    (() => {\n",
              "      let quickchartButtonEl =\n",
              "        document.querySelector('#df-4d788a6e-d710-4454-af40-3f1df97d3184 button');\n",
              "      quickchartButtonEl.style.display =\n",
              "        google.colab.kernel.accessAllowed ? 'block' : 'none';\n",
              "    })();\n",
              "  </script>\n",
              "</div>\n",
              "\n",
              "    </div>\n",
              "  </div>\n"
            ],
            "application/vnd.google.colaboratory.intrinsic+json": {
              "type": "dataframe",
              "variable_name": "df",
              "summary": "{\n  \"name\": \"df\",\n  \"rows\": 500,\n  \"fields\": [\n    {\n      \"column\": \"Job_Title\",\n      \"properties\": {\n        \"dtype\": \"category\",\n        \"num_unique_values\": 10,\n        \"samples\": [\n          \"Data Scientist\",\n          \"Marketing Specialist\",\n          \"HR Manager\"\n        ],\n        \"semantic_type\": \"\",\n        \"description\": \"\"\n      }\n    },\n    {\n      \"column\": \"Industry\",\n      \"properties\": {\n        \"dtype\": \"category\",\n        \"num_unique_values\": 10,\n        \"samples\": [\n          \"Healthcare\",\n          \"Technology\",\n          \"Transportation\"\n        ],\n        \"semantic_type\": \"\",\n        \"description\": \"\"\n      }\n    },\n    {\n      \"column\": \"Company_Size\",\n      \"properties\": {\n        \"dtype\": \"category\",\n        \"num_unique_values\": 3,\n        \"samples\": [\n          \"Small\",\n          \"Large\",\n          \"Medium\"\n        ],\n        \"semantic_type\": \"\",\n        \"description\": \"\"\n      }\n    },\n    {\n      \"column\": \"Location\",\n      \"properties\": {\n        \"dtype\": \"category\",\n        \"num_unique_values\": 10,\n        \"samples\": [\n          \"New York\",\n          \"Singapore\",\n          \"London\"\n        ],\n        \"semantic_type\": \"\",\n        \"description\": \"\"\n      }\n    },\n    {\n      \"column\": \"AI_Adoption_Level\",\n      \"properties\": {\n        \"dtype\": \"category\",\n        \"num_unique_values\": 3,\n        \"samples\": [\n          \"Medium\",\n          \"Low\",\n          \"High\"\n        ],\n        \"semantic_type\": \"\",\n        \"description\": \"\"\n      }\n    },\n    {\n      \"column\": \"Automation_Risk\",\n      \"properties\": {\n        \"dtype\": \"category\",\n        \"num_unique_values\": 3,\n        \"samples\": [\n          \"High\",\n          \"Low\",\n          \"Medium\"\n        ],\n        \"semantic_type\": \"\",\n        \"description\": \"\"\n      }\n    },\n    {\n      \"column\": \"Required_Skills\",\n      \"properties\": {\n        \"dtype\": \"category\",\n        \"num_unique_values\": 10,\n        \"samples\": [\n          \"Data Analysis\",\n          \"Marketing\",\n          \"Sales\"\n        ],\n        \"semantic_type\": \"\",\n        \"description\": \"\"\n      }\n    },\n    {\n      \"column\": \"Salary_USD\",\n      \"properties\": {\n        \"dtype\": \"number\",\n        \"std\": 20504.291453477774,\n        \"min\": 31969.52634612842,\n        \"max\": 155209.82161382848,\n        \"num_unique_values\": 500,\n        \"samples\": [\n          140475.99581234064,\n          75497.33812967277,\n          118489.24026265267\n        ],\n        \"semantic_type\": \"\",\n        \"description\": \"\"\n      }\n    },\n    {\n      \"column\": \"Remote_Friendly\",\n      \"properties\": {\n        \"dtype\": \"category\",\n        \"num_unique_values\": 2,\n        \"samples\": [\n          \"No\",\n          \"Yes\"\n        ],\n        \"semantic_type\": \"\",\n        \"description\": \"\"\n      }\n    },\n    {\n      \"column\": \"Job_Growth_Projection\",\n      \"properties\": {\n        \"dtype\": \"category\",\n        \"num_unique_values\": 3,\n        \"samples\": [\n          \"Growth\",\n          \"Decline\"\n        ],\n        \"semantic_type\": \"\",\n        \"description\": \"\"\n      }\n    }\n  ]\n}"
            }
          },
          "metadata": {},
          "execution_count": 4
        }
      ]
    },
    {
      "cell_type": "code",
      "source": [
        "from sklearn.model_selection import train_test_split\n",
        "from sklearn.preprocessing import LabelEncoder\n",
        "\n",
        "# Encode categorical columns\n",
        "label_encoders = {}\n",
        "for col in df.select_dtypes(include='object').columns:\n",
        "    le = LabelEncoder()\n",
        "    df[col] = le.fit_transform(df[col])\n",
        "    label_encoders[col] = le  # Save the encoder for each column\n",
        "\n",
        "# Define features and target variable\n",
        "X = df.drop('Automation_Risk', axis=1)\n",
        "y = df['Automation_Risk']\n",
        "\n",
        "# Split the dataset into training and testing sets\n",
        "X_train, X_test, y_train, y_test = train_test_split(X, y, test_size=0.3, random_state=42)\n",
        "\n",
        "# Verify the processed data structure\n",
        "X_train.head(), y_train.head()\n"
      ],
      "metadata": {
        "id": "sZn9Hf1F3XaQ",
        "colab": {
          "base_uri": "https://localhost:8080/"
        },
        "outputId": "b93204e2-85fc-46b2-ff14-879d793682a6"
      },
      "execution_count": 5,
      "outputs": [
        {
          "output_type": "execute_result",
          "data": {
            "text/plain": [
              "(     Job_Title  Industry  Company_Size  Location  AI_Adoption_Level  \\\n",
              " 5            9         0             0         5                  2   \n",
              " 116          9         8             2         0                  1   \n",
              " 45           7         4             0         6                  2   \n",
              " 16           8         5             1         6                  0   \n",
              " 462          9         5             2         4                  1   \n",
              " \n",
              "      Required_Skills     Salary_USD  Remote_Friendly  Job_Growth_Projection  \n",
              " 5                  1  102825.007867                0                      1  \n",
              " 116                7   93313.178871                0                      0  \n",
              " 45                 2   93086.342533                0                      1  \n",
              " 16                 4   78401.259282                0                      0  \n",
              " 462                3   85743.834770                0                      1  ,\n",
              " 5      2\n",
              " 116    1\n",
              " 45     2\n",
              " 16     2\n",
              " 462    2\n",
              " Name: Automation_Risk, dtype: int64)"
            ]
          },
          "metadata": {},
          "execution_count": 5
        }
      ]
    },
    {
      "cell_type": "code",
      "source": [
        "import matplotlib.pyplot as plt\n",
        "import seaborn as sns\n",
        "\n",
        "plt.figure(figsize=(8, 6))\n",
        "sns.countplot(x='Automation_Risk', data=df, palette='viridis')\n",
        "plt.title('Distribution of Automation Risk Levels')\n",
        "plt.xlabel('Automation Risk Level')\n",
        "plt.ylabel('Count')\n",
        "plt.show()"
      ],
      "metadata": {
        "id": "CuMv1BkUBrre",
        "colab": {
          "base_uri": "https://localhost:8080/",
          "height": 651
        },
        "outputId": "2c26c9c2-6a80-416b-9e51-3c8483f2eb8f"
      },
      "execution_count": 6,
      "outputs": [
        {
          "output_type": "stream",
          "name": "stderr",
          "text": [
            "<ipython-input-6-f2e6407f8ce6>:5: FutureWarning: \n",
            "\n",
            "Passing `palette` without assigning `hue` is deprecated and will be removed in v0.14.0. Assign the `x` variable to `hue` and set `legend=False` for the same effect.\n",
            "\n",
            "  sns.countplot(x='Automation_Risk', data=df, palette='viridis')\n"
          ]
        },
        {
          "output_type": "display_data",
          "data": {
            "text/plain": [
              "<Figure size 800x600 with 1 Axes>"
            ],
            "image/png": "[encoded data removed]"
          },
          "metadata": {}
        }
      ]
    },
    {
      "cell_type": "code",
      "source": [
        "plt.figure(figsize=(12, 8))\n",
        "sns.countplot(x='Industry', hue='Automation_Risk', data=df, palette='viridis')\n",
        "plt.title('Automation Risk by Industry')\n",
        "plt.xlabel('Industry')\n",
        "plt.ylabel('Count')\n",
        "plt.xticks(rotation=45)\n",
        "plt.legend(title='Automation Risk')\n",
        "plt.show()"
      ],
      "metadata": {
        "id": "A6FwGyd2DDnF",
        "colab": {
          "base_uri": "https://localhost:8080/",
          "height": 720
        },
        "outputId": "4517f74e-cf4c-47b0-ac95-e1273451f4d7"
      },
      "execution_count": 7,
      "outputs": [
        {
          "output_type": "display_data",
          "data": {
            "text/plain": [
              "<Figure size 1200x800 with 1 Axes>"
            ],
            "image/png": "[encoded data removed]"
          },
          "metadata": {}
        }
      ]
    },
    {
      "cell_type": "code",
      "source": [
        "plt.figure(figsize=(10, 6))\n",
        "sns.boxplot(x='Automation_Risk', y='Salary_USD', data=df, palette='viridis')\n",
        "plt.title('Salary Distribution by Automation Risk Level')\n",
        "plt.xlabel('Automation Risk Level')\n",
        "plt.ylabel('Salary (USD)')\n",
        "plt.show()"
      ],
      "metadata": {
        "id": "s5Ptdxc0DLXI",
        "colab": {
          "base_uri": "https://localhost:8080/",
          "height": 651
        },
        "outputId": "189d0713-f27d-4069-b498-401e3bcf0ebb"
      },
      "execution_count": 8,
      "outputs": [
        {
          "output_type": "stream",
          "name": "stderr",
          "text": [
            "<ipython-input-8-8d0a1dc85f61>:2: FutureWarning: \n",
            "\n",
            "Passing `palette` without assigning `hue` is deprecated and will be removed in v0.14.0. Assign the `x` variable to `hue` and set `legend=False` for the same effect.\n",
            "\n",
            "  sns.boxplot(x='Automation_Risk', y='Salary_USD', data=df, palette='viridis')\n"
          ]
        },
        {
          "output_type": "display_data",
          "data": {
            "text/plain": [
              "<Figure size 1000x600 with 1 Axes>"
            ],
            "image/png": "[encoded data removed]"
          },
          "metadata": {}
        }
      ]
    },
    {
      "cell_type": "code",
      "source": [
        "plt.figure(figsize=(8, 6))\n",
        "sns.countplot(x='AI_Adoption_Level', hue='Automation_Risk', data=df, palette='viridis')\n",
        "plt.title('AI Adoption Level vs. Automation Risk')\n",
        "plt.xlabel('AI Adoption Level')\n",
        "plt.ylabel('Count')\n",
        "plt.legend(title='Automation Risk')\n",
        "plt.show()"
      ],
      "metadata": {
        "id": "ykSCSrSRDOts",
        "colab": {
          "base_uri": "https://localhost:8080/",
          "height": 564
        },
        "outputId": "b802e93b-2030-45d7-a9c3-ea765b37a63e"
      },
      "execution_count": 9,
      "outputs": [
        {
          "output_type": "display_data",
          "data": {
            "text/plain": [
              "<Figure size 800x600 with 1 Axes>"
            ],
            "image/png": "[encoded data removed]"
          },
          "metadata": {}
        }
      ]
    },
    {
      "cell_type": "code",
      "source": [
        "from sklearn.model_selection import train_test_split\n",
        "from sklearn.preprocessing import LabelEncoder\n",
        "\n",
        "# Encoding categorical variables\n",
        "df_encoded = df.copy()\n",
        "for col in ['Job_Title', 'Industry', 'Company_Size', 'Location', 'AI_Adoption_Level', 'Required_Skills', 'Remote_Friendly', 'Job_Growth_Projection']:\n",
        "    df_encoded[col] = LabelEncoder().fit_transform(df[col])\n",
        "\n",
        "# Define features and target\n",
        "X = df_encoded.drop('Automation_Risk', axis=1)\n",
        "y = LabelEncoder().fit_transform(df_encoded['Automation_Risk'])\n",
        "\n",
        "# Split the data\n",
        "X_train, X_test, y_train, y_test = train_test_split(X, y, test_size=0.2, random_state=42)"
      ],
      "metadata": {
        "id": "n1hkZ-t5DiBg"
      },
      "execution_count": 10,
      "outputs": []
    },
    {
      "cell_type": "code",
      "source": [
        "import warnings\n",
        "warnings.filterwarnings(\"ignore\")  # Suppress warnings for cleaner output\n",
        "\n",
        "# 1. Logistic Regression\n",
        "from sklearn.linear_model import LogisticRegression\n",
        "from sklearn.metrics import accuracy_score  # Make sure to import accuracy_score\n",
        "\n",
        "log_reg = LogisticRegression(max_iter=2000, random_state=42)\n",
        "log_reg.fit(X_train, y_train)\n",
        "y_pred_log_reg = log_reg.predict(X_test)\n",
        "accuracy_log_reg = accuracy_score(y_test, y_pred_log_reg)\n",
        "print(f\"Logistic Regression Accuracy: {accuracy_log_reg:.2f}\")"
      ],
      "metadata": {
        "id": "UX51jI0RDoB-",
        "colab": {
          "base_uri": "https://localhost:8080/"
        },
        "outputId": "d08b3cf1-de7b-411d-ebb4-474907a0eb7d"
      },
      "execution_count": 11,
      "outputs": [
        {
          "output_type": "stream",
          "name": "stdout",
          "text": [
            "Logistic Regression Accuracy: 0.36\n"
          ]
        }
      ]
    },
    {
      "cell_type": "code",
      "source": [
        "from sklearn.linear_model import LogisticRegression\n",
        "from sklearn.model_selection import GridSearchCV\n",
        "from sklearn.metrics import accuracy_score\n",
        "\n",
        "# Parameters for tuning\n",
        "param_grid_log_reg = {\n",
        "    'penalty': ['l2'],\n",
        "    'C': [0.1, 1, 10],\n",
        "    'solver': ['lbfgs', 'saga'],\n",
        "    'max_iter': [1000, 2000]\n",
        "}\n",
        "\n",
        "# Grid Search for Logistic Regression\n",
        "grid_search_log_reg = GridSearchCV(LogisticRegression(random_state=42), param_grid_log_reg, cv=5, scoring='accuracy')\n",
        "grid_search_log_reg.fit(X_train, y_train)\n",
        "best_log_reg = grid_search_log_reg.best_estimator_\n",
        "\n",
        "# Evaluate on the test set\n",
        "y_pred_best_log_reg = best_log_reg.predict(X_test)\n",
        "accuracy_best_log_reg = accuracy_score(y_test, y_pred_best_log_reg)\n",
        "print(f\"Optimized Logistic Regression Accuracy: {accuracy_best_log_reg:.2f}\")\n"
      ],
      "metadata": {
        "id": "Wm-yqdsLFVWH",
        "colab": {
          "base_uri": "https://localhost:8080/"
        },
        "outputId": "e637c0ef-f4c8-46db-e4f1-30d7b1bb5bd7"
      },
      "execution_count": 12,
      "outputs": [
        {
          "output_type": "stream",
          "name": "stdout",
          "text": [
            "Optimized Logistic Regression Accuracy: 0.33\n"
          ]
        }
      ]
    },
    {
      "cell_type": "code",
      "source": [
        "# 2. Decision Tree\n",
        "from sklearn.tree import DecisionTreeClassifier\n",
        "decision_tree = DecisionTreeClassifier(random_state=42)\n",
        "decision_tree.fit(X_train, y_train)\n",
        "y_pred_decision_tree = decision_tree.predict(X_test)\n",
        "accuracy_decision_tree = accuracy_score(y_test, y_pred_decision_tree)\n",
        "print(f\"Decision Tree Accuracy: {accuracy_decision_tree:.2f}\")"
      ],
      "metadata": {
        "id": "eZorVW_GDn-b",
        "colab": {
          "base_uri": "https://localhost:8080/"
        },
        "outputId": "a0801631-0225-4436-95c9-7332bf191a1f"
      },
      "execution_count": 13,
      "outputs": [
        {
          "output_type": "stream",
          "name": "stdout",
          "text": [
            "Decision Tree Accuracy: 0.37\n"
          ]
        }
      ]
    },
    {
      "cell_type": "code",
      "source": [
        "from sklearn.tree import DecisionTreeClassifier\n",
        "\n",
        "# Parameters for tuning\n",
        "param_grid_decision_tree = {\n",
        "    'max_depth': [None, 10, 20, 30],\n",
        "    'min_samples_split': [2, 5, 10],\n",
        "    'min_samples_leaf': [1, 2, 4]\n",
        "}\n",
        "\n",
        "# Grid Search for Decision Tree\n",
        "grid_search_decision_tree = GridSearchCV(DecisionTreeClassifier(random_state=42), param_grid_decision_tree, cv=5, scoring='accuracy')\n",
        "grid_search_decision_tree.fit(X_train, y_train)\n",
        "best_decision_tree = grid_search_decision_tree.best_estimator_\n",
        "\n",
        "# Evaluate on the test set\n",
        "y_pred_best_decision_tree = best_decision_tree.predict(X_test)\n",
        "accuracy_best_decision_tree = accuracy_score(y_test, y_pred_best_decision_tree)\n",
        "print(f\"Optimized Decision Tree Accuracy: {accuracy_best_decision_tree:.2f}\")\n"
      ],
      "metadata": {
        "id": "cH8WjogFFp1G",
        "colab": {
          "base_uri": "https://localhost:8080/"
        },
        "outputId": "e24315e8-5ef6-40d5-95d1-8564a4d558f2"
      },
      "execution_count": 14,
      "outputs": [
        {
          "output_type": "stream",
          "name": "stdout",
          "text": [
            "Optimized Decision Tree Accuracy: 0.33\n"
          ]
        }
      ]
    },
    {
      "cell_type": "code",
      "source": [
        "# 3. Random Forest\n",
        "from sklearn.ensemble import RandomForestClassifier\n",
        "random_forest = RandomForestClassifier(n_estimators=100, random_state=42)\n",
        "random_forest.fit(X_train, y_train)\n",
        "y_pred_random_forest = random_forest.predict(X_test)\n",
        "accuracy_random_forest = accuracy_score(y_test, y_pred_random_forest)\n",
        "print(f\"Random Forest Accuracy: {accuracy_random_forest:.2f}\")"
      ],
      "metadata": {
        "id": "Q1BeP-OdDn6p",
        "colab": {
          "base_uri": "https://localhost:8080/"
        },
        "outputId": "ecddd80d-0e61-4fb4-8f5d-72fbd8f24a9e"
      },
      "execution_count": 15,
      "outputs": [
        {
          "output_type": "stream",
          "name": "stdout",
          "text": [
            "Random Forest Accuracy: 0.44\n"
          ]
        }
      ]
    },
    {
      "cell_type": "code",
      "source": [
        "from sklearn.model_selection import GridSearchCV\n",
        "\n",
        "# Parameters for tuning\n",
        "param_grid = {\n",
        "    'n_estimators': [50, 100, 200],\n",
        "    'max_depth': [None, 10, 20, 30],\n",
        "    'min_samples_split': [2, 5, 10]\n",
        "}\n",
        "\n",
        "# Grid Search for Random Forest\n",
        "grid_search = GridSearchCV(RandomForestClassifier(random_state=42), param_grid, cv=5, scoring='accuracy')\n",
        "grid_search.fit(X_train, y_train)\n",
        "best_rf = grid_search.best_estimator_\n",
        "\n",
        "# Evaluate on the test set\n",
        "y_pred_best_rf = best_rf.predict(X_test)\n",
        "accuracy_best_rf = accuracy_score(y_test, y_pred_best_rf)\n",
        "print(f\"Optimized Random Forest Accuracy: {accuracy_best_rf:.2f}\")"
      ],
      "metadata": {
        "id": "Cu3TJRUrDoFg",
        "colab": {
          "base_uri": "https://localhost:8080/"
        },
        "outputId": "6c565f06-858c-4b9b-f4d1-1f139a8d0a70"
      },
      "execution_count": 16,
      "outputs": [
        {
          "output_type": "stream",
          "name": "stdout",
          "text": [
            "Optimized Random Forest Accuracy: 0.41\n"
          ]
        }
      ]
    },
    {
      "cell_type": "code",
      "source": [
        "# 4. K-Nearest Neighbors\n",
        "from sklearn.neighbors import KNeighborsClassifier\n",
        "knn = KNeighborsClassifier()\n",
        "knn.fit(X_train, y_train)\n",
        "y_pred_knn = knn.predict(X_test)\n",
        "accuracy_knn = accuracy_score(y_test, y_pred_knn)\n",
        "print(f\"K-Nearest Neighbors Accuracy: {accuracy_knn:.2f}\")"
      ],
      "metadata": {
        "id": "QUWWOlu3Dn3d",
        "colab": {
          "base_uri": "https://localhost:8080/"
        },
        "outputId": "cab313e9-b400-4f11-f0c2-25e300f4f7dd"
      },
      "execution_count": 17,
      "outputs": [
        {
          "output_type": "stream",
          "name": "stdout",
          "text": [
            "K-Nearest Neighbors Accuracy: 0.30\n"
          ]
        }
      ]
    },
    {
      "cell_type": "code",
      "source": [
        "from sklearn.neighbors import KNeighborsClassifier\n",
        "\n",
        "# Parameters for tuning\n",
        "param_grid_knn = {\n",
        "    'n_neighbors': [3, 5, 7, 9],\n",
        "    'weights': ['uniform', 'distance'],\n",
        "    'metric': ['euclidean', 'manhattan']\n",
        "}\n",
        "\n",
        "# Grid Search for K-Nearest Neighbors\n",
        "grid_search_knn = GridSearchCV(KNeighborsClassifier(), param_grid_knn, cv=5, scoring='accuracy')\n",
        "grid_search_knn.fit(X_train, y_train)\n",
        "best_knn = grid_search_knn.best_estimator_\n",
        "\n",
        "# Evaluate on the test set\n",
        "y_pred_best_knn = best_knn.predict(X_test)\n",
        "accuracy_best_knn = accuracy_score(y_test, y_pred_best_knn)\n",
        "print(f\"Optimized K-Nearest Neighbors Accuracy: {accuracy_best_knn:.2f}\")\n"
      ],
      "metadata": {
        "id": "iwuPZArHFdGG",
        "colab": {
          "base_uri": "https://localhost:8080/"
        },
        "outputId": "2265e48d-73b0-4d1e-aaed-c00840a575ef"
      },
      "execution_count": 18,
      "outputs": [
        {
          "output_type": "stream",
          "name": "stdout",
          "text": [
            "Optimized K-Nearest Neighbors Accuracy: 0.36\n"
          ]
        }
      ]
    },
    {
      "cell_type": "code",
      "source": [
        "# 5. Support Vector Machine\n",
        "from sklearn.svm import SVC\n",
        "svm = SVC(kernel='linear', random_state=42)\n",
        "svm.fit(X_train, y_train)\n",
        "y_pred_svm = svm.predict(X_test)\n",
        "accuracy_svm = accuracy_score(y_test, y_pred_svm)\n",
        "print(f\"Support Vector Machine Accuracy: {accuracy_svm:.2f}\")"
      ],
      "metadata": {
        "id": "L-OIXUXNDnz8",
        "colab": {
          "base_uri": "https://localhost:8080/"
        },
        "outputId": "f6b1fa0b-82e1-4f7e-ddaf-2cbf4042b5d6"
      },
      "execution_count": 19,
      "outputs": [
        {
          "output_type": "stream",
          "name": "stdout",
          "text": [
            "Support Vector Machine Accuracy: 0.39\n"
          ]
        }
      ]
    },
    {
      "cell_type": "code",
      "source": [
        "from sklearn.svm import SVC\n",
        "\n",
        "# Parameters for tuning\n",
        "#param_grid_svm = {\n",
        "    #'C': [0.1, 1, 10],\n",
        "    #'kernel': ['linear', 'rbf', 'poly'],\n",
        "    #'gamma': ['scale', 'auto']\n",
        "#}\n",
        "\n",
        "# Grid Search for Support Vector Machine\n",
        "#grid_search_svm = GridSearchCV(SVC(random_state=42), param_grid_svm, cv=5, scoring='accuracy')\n",
        "#grid_search_svm.fit(X_train, y_train)\n",
        "#best_svm = grid_search_svm.best_estimator_\n",
        "\n",
        "# Evaluate on the test set\n",
        "#y_pred_best_svm = best_svm.predict(X_test)\n",
        "#accuracy_best_svm = accuracy_score(y_test, y_pred_best_svm)\n",
        "#print(f\"Optimized Support Vector Machine Accuracy: {accuracy_best_svm:.2f}\")\n"
      ],
      "metadata": {
        "id": "AqLw7QblFzGM"
      },
      "execution_count": 20,
      "outputs": []
    },
    {
      "cell_type": "code",
      "source": [
        "# 6. Gradient Boosting\n",
        "from sklearn.ensemble import GradientBoostingClassifier\n",
        "gradient_boosting = GradientBoostingClassifier(random_state=42)\n",
        "gradient_boosting.fit(X_train, y_train)\n",
        "y_pred_gradient_boosting = gradient_boosting.predict(X_test)\n",
        "accuracy_gradient_boosting = accuracy_score(y_test, y_pred_gradient_boosting)\n",
        "print(f\"Gradient Boosting Accuracy: {accuracy_gradient_boosting:.2f}\")"
      ],
      "metadata": {
        "id": "-HQvAgFqDnwF",
        "colab": {
          "base_uri": "https://localhost:8080/"
        },
        "outputId": "494db088-6aed-43fb-9706-9c3639ae844d"
      },
      "execution_count": 21,
      "outputs": [
        {
          "output_type": "stream",
          "name": "stdout",
          "text": [
            "Gradient Boosting Accuracy: 0.38\n"
          ]
        }
      ]
    },
    {
      "cell_type": "code",
      "source": [
        "from xgboost import XGBClassifier\n",
        "from sklearn.metrics import accuracy_score\n",
        "\n",
        "# XGBoost\n",
        "xgb = XGBClassifier(use_label_encoder=False, eval_metric='mlogloss', random_state=42)\n",
        "xgb.fit(X_train, y_train)\n",
        "\n",
        "# Predict and calculate accuracy\n",
        "y_pred_xgb = xgb.predict(X_test)\n",
        "accuracy_xgb = accuracy_score(y_test, y_pred_xgb)\n",
        "print(f\"XGBoost Accuracy: {accuracy_xgb:.2f}\")\n"
      ],
      "metadata": {
        "id": "hE99musbDnsW",
        "colab": {
          "base_uri": "https://localhost:8080/"
        },
        "outputId": "f7b02646-6a5b-4b00-8008-da7b92594563"
      },
      "execution_count": 23,
      "outputs": [
        {
          "output_type": "stream",
          "name": "stdout",
          "text": [
            "XGBoost Accuracy: 0.39\n"
          ]
        }
      ]
    },
    {
      "cell_type": "code",
      "source": [
        "from xgboost import XGBClassifier\n",
        "\n",
        "# Parameters for tuning\n",
        "param_grid_xgb = {\n",
        "    'n_estimators': [50, 100, 200],\n",
        "    'learning_rate': [0.01, 0.1, 0.2],\n",
        "    'max_depth': [3, 5, 7]\n",
        "}\n",
        "\n",
        "# Grid Search for XGBoost\n",
        "grid_search_xgb = GridSearchCV(XGBClassifier(use_label_encoder=False, eval_metric='mlogloss', random_state=42), param_grid_xgb, cv=5, scoring='accuracy')\n",
        "grid_search_xgb.fit(X_train, y_train)\n",
        "best_xgb = grid_search_xgb.best_estimator_\n",
        "\n",
        "# Evaluate on the test set\n",
        "y_pred_best_xgb = best_xgb.predict(X_test)\n",
        "accuracy_best_xgb = accuracy_score(y_test, y_pred_best_xgb)\n",
        "print(f\"Optimized XGBoost Accuracy: {accuracy_best_xgb:.2f}\")\n"
      ],
      "metadata": {
        "id": "GdP4MGRnF4I_",
        "colab": {
          "base_uri": "https://localhost:8080/"
        },
        "outputId": "a77d9fcc-5e21-43b9-d1ea-f12adf1af165"
      },
      "execution_count": 24,
      "outputs": [
        {
          "output_type": "stream",
          "name": "stdout",
          "text": [
            "Optimized XGBoost Accuracy: 0.37\n"
          ]
        }
      ]
    },
    {
      "cell_type": "code",
      "source": [
        "print(f\"Logistic Regression Accuracy: {accuracy_log_reg:.2f}\")\n",
        "print(f\"Optimized Logistic Regression Accuracy: {accuracy_best_log_reg:.2f}\")\n",
        "print(f\"Decision Tree Accuracy: {accuracy_decision_tree:.2f}\")\n",
        "print(f\"Optimized Decision Tree Accuracy: {accuracy_best_decision_tree:.2f}\")\n",
        "print(f\"Random Forest Accuracy: {accuracy_random_forest:.2f}\")\n",
        "print(f\"Optimized Random Forest Accuracy: {accuracy_best_rf:.2f}\")\n",
        "print(f\"K-Nearest Neighbors Accuracy: {accuracy_knn:.2f}\")\n",
        "print(f\"Optimized K-Nearest Neighbors Accuracy: {accuracy_best_knn:.2f}\")\n",
        "print(f\"Support Vector Machine Accuracy: {accuracy_svm:.2f}\")\n",
        "#print(f\"Optimized Support Vector Machine Accuracy: {accuracy_best_svm:.2f}\")\n",
        "print(f\"Gradient Boosting Accuracy: {accuracy_gradient_boosting:.2f}\")\n",
        "print(f\"XGBoost Accuracy: {accuracy_xgb:.2f}\")\n",
        "print(f\"Optimized XGBoost Accuracy: {accuracy_best_xgb:.2f}\")"
      ],
      "metadata": {
        "id": "AO6pE2H6VF2E",
        "colab": {
          "base_uri": "https://localhost:8080/"
        },
        "outputId": "1e1a16a1-4172-4708-8c8c-091ebfe39538"
      },
      "execution_count": 25,
      "outputs": [
        {
          "output_type": "stream",
          "name": "stdout",
          "text": [
            "Logistic Regression Accuracy: 0.36\n",
            "Optimized Logistic Regression Accuracy: 0.33\n",
            "Decision Tree Accuracy: 0.37\n",
            "Optimized Decision Tree Accuracy: 0.33\n",
            "Random Forest Accuracy: 0.44\n",
            "Optimized Random Forest Accuracy: 0.41\n",
            "K-Nearest Neighbors Accuracy: 0.30\n",
            "Optimized K-Nearest Neighbors Accuracy: 0.36\n",
            "Support Vector Machine Accuracy: 0.39\n",
            "Gradient Boosting Accuracy: 0.38\n",
            "Optimized Gradient Boosting Accuracy: 0.35\n",
            "XGBoost Accuracy: 0.39\n",
            "Optimized XGBoost Accuracy: 0.37\n"
          ]
        }
      ]
    }
  ]
}